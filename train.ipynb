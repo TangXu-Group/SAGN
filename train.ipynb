{
 "cells": [
  {
   "cell_type": "code",
   "execution_count": 1,
   "metadata": {
    "ExecuteTime": {
     "end_time": "2021-03-07T04:56:14.029081Z",
     "start_time": "2021-03-07T04:56:12.717717Z"
    },
    "tags": []
   },
   "outputs": [],
   "source": [
    "from torch.utils.data import DataLoader\n",
    "import torch\n",
    "from tqdm.notebook import tqdm\n",
    "import numpy as np\n",
    "import torch.nn as nn\n",
    "import torch.optim.lr_scheduler as lr_scheduler\n",
    "import torchvision.transforms as transforms\n",
    "import torchvision.datasets as datasets\n",
    "import shutil\n",
    "import torch.nn.functional as F\n",
    "import matplotlib.pyplot as plt\n",
    "\n",
    "import os\n",
    "os.environ['CUDA_VISIBLE_DEVICES'] = '0'"
   ]
  },
  {
   "cell_type": "code",
   "execution_count": 2,
   "metadata": {
    "ExecuteTime": {
     "end_time": "2021-03-07T04:56:14.034117Z",
     "start_time": "2021-03-07T04:56:14.030929Z"
    },
    "tags": []
   },
   "outputs": [],
   "source": [
    "def OA(pre_classes, gt_classes):\n",
    "    return torch.sum(torch.tensor(pre_classes) == torch.tensor(gt_classes)).float()/len(pre_classes)"
   ]
  },
  {
   "cell_type": "code",
   "execution_count": 3,
   "metadata": {
    "ExecuteTime": {
     "end_time": "2021-03-07T04:56:14.107861Z",
     "start_time": "2021-03-07T04:56:14.039513Z"
    },
    "tags": []
   },
   "outputs": [],
   "source": [
    "pretrained_size = 256\n",
    "pretrained_means = [0.3980, 0.4097, 0.3696]\n",
    "pretrained_stds= [0.1468, 0.1340, 0.1303]\n",
    "\n",
    "train_transforms = transforms.Compose([\n",
    "                           transforms.Resize(pretrained_size),\n",
    "                           transforms.RandomRotation(5),\n",
    "                           transforms.RandomHorizontalFlip(0.5),\n",
    "                           transforms.RandomCrop(pretrained_size, padding = 10),\n",
    "                           transforms.ToTensor(),\n",
    "                           transforms.Normalize(mean = pretrained_means, \n",
    "                                                std = pretrained_stds)\n",
    "                       ])\n",
    "\n",
    "test_transforms = transforms.Compose([\n",
    "                           transforms.Resize(pretrained_size),\n",
    "                           transforms.CenterCrop(pretrained_size),\n",
    "                           transforms.ToTensor(),\n",
    "                           transforms.Normalize(mean = pretrained_means, \n",
    "                                                std = pretrained_stds)\n",
    "                       ])"
   ]
  },
  {
   "cell_type": "code",
   "execution_count": 15,
   "metadata": {
    "ExecuteTime": {
     "end_time": "2021-03-07T04:56:15.850637Z",
     "start_time": "2021-03-07T04:56:15.825522Z"
    },
    "tags": []
   },
   "outputs": [],
   "source": [
    "Log_path = 'ex_UCM/'\n",
    "num_class = 21\n",
    "train_dir = '/home/amax/yyq/Graph_convolution_self/Datasets/UCMerced_LandUse/0.8/train'\n",
    "test_dir = '/home/amax/yyq/Graph_convolution_self/Datasets/UCMerced_LandUse/0.8/test/'\n",
    "\n",
    "\n",
    "# Log_path = 'ex_AID/'\n",
    "# num_class = 30\n",
    "# train_dir = '/home/amax/yyq/Graph_convolution_self/Datasets/AID/28/train/'\n",
    "# test_dir = '/home/amax/yyq/Graph_convolution_self/Datasets/AID/28/test/'\n",
    "\n",
    "if not os.path.exists(Log_path):\n",
    "    os.mkdir(Log_path)\n",
    "\n",
    "train_data = datasets.ImageFolder(root = train_dir, \n",
    "                                  transform = train_transforms)\n",
    "\n",
    "test_data = datasets.ImageFolder(root = test_dir, \n",
    "                                 transform = test_transforms)\n",
    "\n",
    "batch_size = 32\n",
    "tra_Dataloader = DataLoader(train_data, batch_size, shuffle=True,\n",
    "                                               num_workers=8, pin_memory=True)\n",
    "tes_Dataloader = DataLoader(test_data, batch_size*4, shuffle=False,\n",
    "                                               num_workers=8, pin_memory=True)"
   ]
  },
  {
   "attachments": {
    "0fff90fb-a1a4-40cb-953d-4c89a4b733a1.png": {
     "image/png": "[encoded data removed]"
    }
   },
   "cell_type": "markdown",
   "metadata": {},
   "source": [
    "![image.png](attachment:0fff90fb-a1a4-40cb-953d-4c89a4b733a1.png)"
   ]
  },
  {
   "cell_type": "code",
   "execution_count": 5,
   "metadata": {
    "ExecuteTime": {
     "end_time": "2021-03-07T04:56:16.328774Z",
     "start_time": "2021-03-07T04:56:16.321166Z"
    },
    "tags": []
   },
   "outputs": [],
   "source": [
    "from Tools.Dfpn import dfpn\n",
    "from Tools.GCNK import Graph2dConvolution"
   ]
  },
  {
   "cell_type": "code",
   "execution_count": 6,
   "metadata": {
    "tags": []
   },
   "outputs": [],
   "source": [
    "class GCN(nn.Module):\n",
    "    def __init__(self, nfeat, ofeat,block_num):\n",
    "        super(GCN, self).__init__()\n",
    "        self.convindex = nn.Conv2d(nfeat, block_num, 5,padding=2)\n",
    "        \n",
    "        self.gc= Graph2dConvolution(nfeat,ofeat,kernel_size = 3, block_num = block_num, padding=1)\n",
    "        self.bn= nn.BatchNorm2d(ofeat)\n",
    "\n",
    "    def forward(self, x):\n",
    "        index_f = self.convindex(x)\n",
    "        value, index = torch.max(index_f, dim=1, keepdim=True)\n",
    "        x = self.gc(x,index)\n",
    "        x = self.bn(x)\n",
    "        return x\n",
    "    \n",
    "class GraphClassification(nn.Module):\n",
    "    def __init__(self, block_num, labelnum, channel_num):\n",
    "        super(GraphClassification, self).__init__()\n",
    "        self.dpfn = dfpn(trans_channel_num = channel_num, resnet_type=resnet_type)\n",
    "        self.gcn = GCN(channel_num, labelnum, block_num = block_num)\n",
    "        \n",
    "    def forward(self, img):\n",
    "        features = self.dpfn(img)\n",
    "        features = self.gcn(features)\n",
    "        final_class = torch.mean(features,dim=(2,3))\n",
    "        return final_class"
   ]
  },
  {
   "cell_type": "code",
   "execution_count": 7,
   "metadata": {
    "ExecuteTime": {
     "end_time": "2021-03-07T04:56:20.872820Z",
     "start_time": "2021-03-07T04:56:17.610523Z"
    },
    "tags": []
   },
   "outputs": [],
   "source": [
    "EPOCHS = 1000\n",
    "FOUND_LR = 4e-5\n",
    "\n",
    "block = 8\n",
    "tras_ch = 128\n",
    "resnet_type='resnet34'"
   ]
  },
  {
   "cell_type": "code",
   "execution_count": 9,
   "metadata": {
    "ExecuteTime": {
     "end_time": "2021-03-07T04:56:21.762519Z",
     "start_time": "2021-03-07T04:56:21.758176Z"
    },
    "tags": []
   },
   "outputs": [],
   "source": [
    "model = GraphClassification(block,num_class,tras_ch).cuda()\n",
    "lossf = nn.CrossEntropyLoss()\n",
    "\n",
    "opt = torch.optim.Adam(model.parameters(), lr = FOUND_LR)\n",
    "\n",
    "STEPS_PER_EPOCH = len(tra_Dataloader)\n",
    "TOTAL_STEPS = STEPS_PER_EPOCH * (EPOCHS//5)\n",
    "scheduler = lr_scheduler.StepLR(opt, step_size=TOTAL_STEPS, gamma=0.1)"
   ]
  },
  {
   "cell_type": "code",
   "execution_count": null,
   "metadata": {
    "ExecuteTime": {
     "end_time": "2021-03-07T04:56:28.485097Z",
     "start_time": "2021-03-07T04:56:24.699539Z"
    },
    "tags": []
   },
   "outputs": [],
   "source": [
    "best_acc_test = 0\n",
    "for epoch in range(EPOCHS):\n",
    "    '''train'''\n",
    "    model.train()\n",
    "    losses = []\n",
    "    for i,(img,label) in enumerate(tqdm(tra_Dataloader)):\n",
    "        opt.zero_grad()\n",
    "        img,label = img.cuda(),label.cuda()\n",
    "        pred_cls = model(img)\n",
    "        \n",
    "        loss_class = lossf(pred_cls,label)\n",
    "        loss = loss_class\n",
    "        loss.backward()\n",
    "        opt.step()\n",
    "        scheduler.step()\n",
    "        \n",
    "        losses.append(float(loss.detach()))\n",
    "        if i%20 == 0:\n",
    "            print(np.mean(losses))\n",
    "        \n",
    "    '''test'''\n",
    "    with torch.no_grad():\n",
    "        model.eval()\n",
    "        pre_classes = []\n",
    "        gt_classes = []\n",
    "        for i,(img,label) in enumerate(tqdm(tes_Dataloader)):\n",
    "            img,label = img.cuda(),label.cuda()\n",
    "            pre_class = model(img)\n",
    "\n",
    "            pre_classes = pre_classes + list(np.array(torch.argmax(pre_class,dim=1).detach().cpu()))\n",
    "            gt_classes = gt_classes + list(np.array(label.cpu()))\n",
    "\n",
    "        mean_acc = OA(pre_classes, gt_classes)\n",
    "        mean_acc = round(float(mean_acc),4)\n",
    "        print('epoch:',epoch,'test_precison:',mean_acc,'best_test:',best_acc_test)\n",
    "        f = open(Log_path+'log.txt','a')\n",
    "        f.write('Epoch:'+str(epoch)+'   acc:'+str(mean_acc)+'   Bestacc:'+str(best_acc_test)+'\\n')\n",
    "        f.close()\n",
    "\n",
    "        if best_acc_test < mean_acc:\n",
    "            best_acc_test = mean_acc\n",
    "            torch.save(model.state_dict(), Log_path+'best.pth')"
   ]
  },
  {
   "cell_type": "code",
   "execution_count": 11,
   "metadata": {
    "tags": []
   },
   "outputs": [
    {
     "data": {
      "application/vnd.jupyter.widget-view+json": {
       "model_id": "b773c2d47aa24daf94ab1ea689f582b0",
       "version_major": 2,
       "version_minor": 0
      },
      "text/plain": [
       "  0%|          | 0/4 [00:00<?, ?it/s]"
      ]
     },
     "metadata": {},
     "output_type": "display_data"
    },
    {
     "name": "stdout",
     "output_type": "stream",
     "text": [
      "OA: 1.0 AA: 1.0 KAPPA: 1.0 \n",
      " [1. 1. 1. 1. 1. 1. 1. 1. 1. 1. 1. 1. 1. 1. 1. 1. 1. 1. 1. 1. 1.]\n"
     ]
    }
   ],
   "source": [
    "tess_Dataloader = DataLoader(test_data, 128, shuffle=True,\n",
    "                                               num_workers=8, pin_memory=True)\n",
    "model = GraphClassification(block,num_class,tras_ch).cuda()\n",
    "model.load_state_dict(torch.load(Log_path+'best.pth'))\n",
    "with torch.no_grad():\n",
    "    model.eval()\n",
    "    pre_classes = []\n",
    "    gt_classes = []\n",
    "    outputs = []\n",
    "    for i,(img,label) in enumerate(tqdm(tess_Dataloader)):\n",
    "        img,label = img.cuda(),label.cuda()\n",
    "        pre_class =  model(img)\n",
    "    #     break\n",
    "        outputs = outputs + list(pre_class.detach())\n",
    "        pre_classes = pre_classes + list(np.array(torch.argmax(pre_class,dim=1).detach().cpu()))\n",
    "        gt_classes = gt_classes + list(np.array(label.cpu()))\n",
    "\n",
    "    # mean_acc = OA(pre_classes, gt_classes)\n",
    "    # mean_acc = round(float(mean_acc),4)\n",
    "    # print(mean_acc)\n",
    "\n",
    "    from Tools.performance import performance\n",
    "    OA,AA,KAAPA, Percision_list = performance(torch.tensor(pre_classes), torch.tensor(gt_classes),num_class)\n",
    "    print('OA:',round(OA,4),'AA:',round(AA,4),'KAPPA:',round(KAAPA,4),'\\n', Percision_list)"
   ]
  },
  {
   "cell_type": "code",
   "execution_count": 12,
   "metadata": {
    "ExecuteTime": {
     "end_time": "2021-02-19T12:55:45.332736Z",
     "start_time": "2021-02-19T12:55:41.758702Z"
    },
    "tags": []
   },
   "outputs": [
    {
     "data": {
      "image/png": "[encoded data removed]",
      "text/plain": [
       "<Figure size 1000x1000 with 2 Axes>"
      ]
     },
     "metadata": {},
     "output_type": "display_data"
    }
   ],
   "source": [
    "from sklearn.metrics import confusion_matrix\n",
    "from sklearn.metrics import ConfusionMatrixDisplay\n",
    "\n",
    "def plot_confusion_matrix(labels, pred_labels, classes):\n",
    "    fig = plt.figure(dpi=100,figsize = (10, 10));\n",
    "    ax = fig.add_subplot(1, 1, 1);\n",
    "    cm = confusion_matrix(labels, pred_labels);\n",
    "    cm = ConfusionMatrixDisplay(cm, display_labels = classes);\n",
    "    cm.plot(values_format = 'd', cmap = 'Blues', ax = ax)\n",
    "    plt.xticks(rotation = 90)\n",
    "    \n",
    "plot_confusion_matrix(gt_classes, pre_classes, range(num_class))"
   ]
  },
  {
   "cell_type": "code",
   "execution_count": null,
   "metadata": {},
   "outputs": [],
   "source": []
  }
 ],
 "metadata": {
  "kernelspec": {
   "display_name": "python3 (bakpy38)",
   "language": "python",
   "name": "conda-env-bakpy38-py"
  },
  "language_info": {
   "codemirror_mode": {
    "name": "ipython",
    "version": 3
   },
   "file_extension": ".py",
   "mimetype": "text/x-python",
   "name": "python",
   "nbconvert_exporter": "python",
   "pygments_lexer": "ipython3",
   "version": "3.8.16"
  },
  "toc": {
   "base_numbering": 1,
   "nav_menu": {},
   "number_sections": true,
   "sideBar": true,
   "skip_h1_title": false,
   "title_cell": "Table of Contents",
   "title_sidebar": "Contents",
   "toc_cell": false,
   "toc_position": {},
   "toc_section_display": true,
   "toc_window_display": false
  }
 },
 "nbformat": 4,
 "nbformat_minor": 4
}
